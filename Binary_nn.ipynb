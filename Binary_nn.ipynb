{
 "cells": [
  {
   "cell_type": "markdown",
   "metadata": {},
   "source": [
    "# A binary classification Neural Network #\n",
    "\n",
    "Purpose of this notebook :\n",
    "\n",
    "- create a binary classification neural network from scratch\n",
    "- practice oop programming\n",
    "- practice docstring and commentaries"
   ]
  },
  {
   "cell_type": "code",
   "execution_count": 5,
   "metadata": {},
   "outputs": [],
   "source": [
    "# Add useful librairies\n",
    "\n",
    "import numpy as np\n",
    "import matplotlib.pyplot as plt\n",
    "import random"
   ]
  },
  {
   "cell_type": "code",
   "execution_count": 6,
   "metadata": {},
   "outputs": [
    {
     "name": "stdout",
     "output_type": "stream",
     "text": [
      "X :  [[1. 1. 1. 0. 0.]\n",
      " [0. 0. 1. 1. 1.]]\n",
      "Y :  [[1. 1. 0. 1. 1.]]\n"
     ]
    }
   ],
   "source": [
    "# First the full neural network\n",
    "\n",
    "# The prupose is to predict from data\n",
    "# let's create some data a XOR problematic\n",
    "\n",
    "# Let's fix ou random seed\n",
    "random.seed(42)\n",
    "\n",
    "# A dataset of m example with 2 inputs shape(2 m)\n",
    "X = np.random.randn(2, 100)\n",
    "# Transorm inputs in O. or 1.\n",
    "X = (X > 0.5) * 1.\n",
    "\n",
    "# The labels (when x = (0 0) or (1 1) > False, x = (0 1) or (1 0) > True)\n",
    "Y = (np.sum(X, axis=0, keepdims=True) == 1) * 1.\n",
    "\n",
    "print('X : ', X[:,:5])\n",
    "print('Y : ', Y[:,:5])"
   ]
  },
  {
   "cell_type": "code",
   "execution_count": 7,
   "metadata": {},
   "outputs": [
    {
     "name": "stdout",
     "output_type": "stream",
     "text": [
      "layers :  [2, 4, 2, 1]\n",
      "W :\n",
      "(4, 2)\n",
      "(2, 4)\n",
      "(1, 2)\n",
      "b :\n",
      "(4, 1)\n",
      "(2, 1)\n",
      "(1, 1)\n"
     ]
    }
   ],
   "source": [
    "# Initialisation\n",
    "# List of hidden layers\n",
    "hidden_layers = [4, 2]\n",
    "\n",
    "# List of layers for binary classification\n",
    "layers = [X.shape[0]] + hidden_layers + [1]\n",
    "\n",
    "# Initialisation of list Weights and bias shape (output_layer(-1) layer) (output_layer(-1) 1)\n",
    "W = [np.random.randn(layers[k], layers[k-1]) for k in range(1, len(layers))]\n",
    "b = [np.zeros((layers[k], 1)) for k in range(1, len(layers))]\n",
    "\n",
    "print('layers : ', layers)\n",
    "print('W :')\n",
    "for i in W:\n",
    "    print(i.shape)\n",
    "print('b :')\n",
    "for i in b:\n",
    "    print(i.shape)\n"
   ]
  },
  {
   "cell_type": "code",
   "execution_count": 20,
   "metadata": {},
   "outputs": [
    {
     "name": "stdout",
     "output_type": "stream",
     "text": [
      "(2, 100)\n",
      "(4, 100)\n",
      "(2, 100)\n",
      "(1, 100)\n"
     ]
    }
   ],
   "source": [
    "# Forward\n",
    "\n",
    "# Let's define the activation function\n",
    "def sigmoid(z):\n",
    "    return 1 / (1 + np.exp(-z))\n",
    "\n",
    "# Let's make a list of activation starting with the inputs matrix\n",
    "activation = [X]\n",
    "\n",
    "# Loop to pass through all neurons\n",
    "for l in range(len(layers)-1):\n",
    "    pre_activation = np.dot(W[l], activation[l]) + b[l]\n",
    "    activation.append(sigmoid(pre_activation))\n",
    "\n",
    "# check the activations shape    \n",
    "    print(activation[l].shape)\n",
    "print(activation[-1].shape)\n",
    "    "
   ]
  },
  {
   "cell_type": "code",
   "execution_count": 21,
   "metadata": {
    "scrolled": false
   },
   "outputs": [
    {
     "name": "stdout",
     "output_type": "stream",
     "text": [
      "(1, 100)\n",
      "0.6876592944705928\n"
     ]
    }
   ],
   "source": [
    "# What about the loss and cost\n",
    "\n",
    "prediction_inter = activation[-1]\n",
    "\n",
    "# loss function\n",
    "loss = -(Y * np.log(prediction_inter) + (1 - Y) * np.log(1 - prediction_inter))\n",
    "\n",
    "# number of examples\n",
    "m = X.shape[1]\n",
    "cost = np.sum(loss) / m\n",
    "\n",
    "print(loss.shape)\n",
    "print(cost)"
   ]
  },
  {
   "cell_type": "code",
   "execution_count": 22,
   "metadata": {},
   "outputs": [
    {
     "name": "stdout",
     "output_type": "stream",
     "text": [
      "(4, 2)\n",
      "(2, 4)\n",
      "(1, 2)\n",
      "(4, 1)\n",
      "(2, 1)\n",
      "(1, 1)\n"
     ]
    }
   ],
   "source": [
    "# Backward\n",
    "\n",
    "# First the last layer\n",
    "d_loss = -Y/activation[-1] + (1-Y)/(1-activation[-1])\n",
    "d_activation = activation[-1] * (1 - activation[-1])\n",
    "d_pre_activation = d_loss * d_activation\n",
    "\n",
    "d_W = [np.dot(d_pre_activation, activation[-2].T)]\n",
    "d_b = [np.sum(d_pre_activation, axis=1, keepdims=True) / m]\n",
    "\n",
    "# Loop for the next layers\n",
    "for l in reversed(range(1, len(layers)-1)):\n",
    "    d_pre_activation = np.dot(W[l].T, d_pre_activation)\n",
    "    \n",
    "    d_W.insert(0, np.dot(d_pre_activation, activation[l-1].T))\n",
    "    d_b.insert(0, np.sum(d_pre_activation, axis=1, keepdims=True) / m)\n",
    "\n",
    "for i in d_W:\n",
    "    print(i.shape)\n",
    "\n",
    "for i in d_b:\n",
    "    print(i.shape)\n",
    "    "
   ]
  },
  {
   "cell_type": "code",
   "execution_count": 19,
   "metadata": {},
   "outputs": [
    {
     "name": "stdout",
     "output_type": "stream",
     "text": [
      "new W 0  :  (4, 2)\n",
      "new b 0  :  (4, 1)\n",
      "new W 1  :  (2, 4)\n",
      "new b 1  :  (2, 1)\n",
      "new W 2  :  (1, 2)\n",
      "new b 2  :  (1, 1)\n"
     ]
    }
   ],
   "source": [
    "# updating the parameters\n",
    "\n",
    "# Setting the learning rate\n",
    "learning_rate = 0.5\n",
    "\n",
    "# Loop for updating all weights and bias in the network\n",
    "for i in range(len(layers)-1):\n",
    "    W[i] -= learning_rate * d_W[i]\n",
    "    b[i] -= learning_rate * d_b[i]\n",
    "    \n",
    "    print('new W', i, ' : ', W[i].shape)\n",
    "    print('new b', i, ' : ', b[i].shape)\n",
    "    "
   ]
  }
 ],
 "metadata": {
  "kernelspec": {
   "display_name": "Python 3",
   "language": "python",
   "name": "python3"
  },
  "language_info": {
   "codemirror_mode": {
    "name": "ipython",
    "version": 3
   },
   "file_extension": ".py",
   "mimetype": "text/x-python",
   "name": "python",
   "nbconvert_exporter": "python",
   "pygments_lexer": "ipython3",
   "version": "3.7.1"
  }
 },
 "nbformat": 4,
 "nbformat_minor": 2
}
